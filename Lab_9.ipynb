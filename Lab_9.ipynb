{
 "cells": [
  {
   "cell_type": "markdown",
   "metadata": {},
   "source": [
    "# Task 1"
   ]
  },
  {
   "cell_type": "code",
   "execution_count": 1,
   "metadata": {},
   "outputs": [
    {
     "name": "stdout",
     "output_type": "stream",
     "text": [
      "6\n"
     ]
    }
   ],
   "source": [
    "# Implement Minimax Algo in python.(pseudocode is given in \n",
    "# chapter slides as well as in this manual below)\n",
    "\n",
    "# Code:\n",
    "\n",
    "def minimax(node, depth, maximizingPlayer):\n",
    "    if depth == 0 or len(node[1]) == 0:\n",
    "        return node[0]\n",
    "    if maximizingPlayer:\n",
    "        maxEva = float('-inf')\n",
    "        for child in node[1]:\n",
    "            eva = minimax(child, depth - 1, False)\n",
    "            maxEva = max(maxEva, eva)   \n",
    "        return maxEva\n",
    "    else:\n",
    "        minEva = float('inf')\n",
    "        for child in node[1]:\n",
    "            eva = minimax(child, depth - 1, True)\n",
    "            minEva = min(minEva, eva)\n",
    "        return minEva\n",
    "    \n",
    "tree = [3, [[5, [[9, [[8, [], []], [6, [], []]]], [6, [], []]], [2, [[3, [[1, [], []]], [7, [], []]]]]]]]\n",
    "\n",
    "print(minimax(tree, 3, True)) # 6"
   ]
  },
  {
   "cell_type": "markdown",
   "metadata": {},
   "source": [
    "# Task 2"
   ]
  },
  {
   "cell_type": "code",
   "execution_count": 2,
   "metadata": {},
   "outputs": [
    {
     "name": "stdout",
     "output_type": "stream",
     "text": [
      "6\n"
     ]
    }
   ],
   "source": [
    "# Implement alpha beta pruning in python. .(pseudocode is given in \n",
    "# chapter slides as well as in this manual below)\n",
    "\n",
    "# Code:\n",
    "\n",
    "def minimax(node, depth, isMaximizingPlayer, alpha, beta):\n",
    "    if depth == 0 or len(node[1]) == 0:\n",
    "        return node[0]\n",
    "    if isMaximizingPlayer:\n",
    "        bestVal = float('-inf')\n",
    "        for child in node[1]:\n",
    "            value = minimax(child, depth - 1, False, alpha, beta)\n",
    "            bestVal = max(bestVal, value)\n",
    "            alpha = max(alpha, bestVal)\n",
    "            if beta <= alpha:\n",
    "                break\n",
    "        return bestVal\n",
    "    else:\n",
    "        bestVal = float('inf')\n",
    "        for child in node[1]:\n",
    "            value = minimax(child, depth - 1, True, alpha, beta)\n",
    "            bestVal = min(bestVal, value)\n",
    "            beta = min(beta, bestVal)\n",
    "            if beta <= alpha:\n",
    "                break\n",
    "        return bestVal\n",
    "    \n",
    "tree = [3, [[5, [[9, [[8, [], []], [6, [], []]]], [6, [], []]], [2, [[3, [[1, [], []]], [7, [], []]]]]]]]\n",
    "\n",
    "print(minimax(tree, 3, True, float('-inf'), float('inf'))) # 5"
   ]
  }
 ],
 "metadata": {
  "kernelspec": {
   "display_name": "Python 3",
   "language": "python",
   "name": "python3"
  },
  "language_info": {
   "codemirror_mode": {
    "name": "ipython",
    "version": 3
   },
   "file_extension": ".py",
   "mimetype": "text/x-python",
   "name": "python",
   "nbconvert_exporter": "python",
   "pygments_lexer": "ipython3",
   "version": "3.12.4"
  }
 },
 "nbformat": 4,
 "nbformat_minor": 2
}
