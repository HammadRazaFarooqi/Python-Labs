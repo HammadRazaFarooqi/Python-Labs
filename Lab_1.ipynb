{
 "cells": [
  {
   "cell_type": "markdown",
   "metadata": {},
   "source": [
    "# Print Statement"
   ]
  },
  {
   "cell_type": "code",
   "execution_count": 6,
   "metadata": {},
   "outputs": [
    {
     "name": "stdout",
     "output_type": "stream",
     "text": [
      "the first number is:44\n",
      "98\n"
     ]
    }
   ],
   "source": [
    "txt=input(\"enter the first number: \")\n",
    "txt1=input(\"enter the second number: \")\n",
    "\n",
    "print(\"the first number is:\" + txt);print(txt1)\n"
   ]
  },
  {
   "cell_type": "markdown",
   "metadata": {},
   "source": [
    "# Conditional Statement"
   ]
  },
  {
   "cell_type": "code",
   "execution_count": 7,
   "metadata": {},
   "outputs": [
    {
     "name": "stdout",
     "output_type": "stream",
     "text": [
      "condition is true\n"
     ]
    }
   ],
   "source": [
    "x=1\n",
    "if(x>0):\n",
    "    print(\"condition is true\")\n"
   ]
  },
  {
   "cell_type": "markdown",
   "metadata": {},
   "source": [
    "# Type of Data Types"
   ]
  },
  {
   "cell_type": "code",
   "execution_count": 8,
   "metadata": {},
   "outputs": [
    {
     "name": "stdout",
     "output_type": "stream",
     "text": [
      "<class 'int'>\n",
      "<class 'complex'>\n",
      "hello this is me...\n"
     ]
    }
   ],
   "source": [
    "a=1122\n",
    "print(type(a))\n",
    "\n",
    "x=complex(1,2)\n",
    "print(type(x))\n",
    "str1=\"hello this is me...\"\n",
    "print(str1)\n"
   ]
  },
  {
   "cell_type": "markdown",
   "metadata": {},
   "source": [
    "# Print Spaces"
   ]
  },
  {
   "cell_type": "code",
   "execution_count": 9,
   "metadata": {},
   "outputs": [
    {
     "name": "stdout",
     "output_type": "stream",
     "text": [
      "this is the backslash \\\n",
      "this is new \n",
      " new line\n",
      "my name is \"hammad\"\n",
      "my name is 'hammad'\n"
     ]
    }
   ],
   "source": [
    "print(\"this is the backslash \\\\\")\n",
    "print(\"this is new \\n new line\")\n",
    "print(\"my name is \\\"hammad\\\"\")\n",
    "print(\"my name is \\'hammad\\'\")\n"
   ]
  },
  {
   "cell_type": "markdown",
   "metadata": {},
   "source": [
    "# Print Index of the String"
   ]
  },
  {
   "cell_type": "code",
   "execution_count": 10,
   "metadata": {},
   "outputs": [
    {
     "name": "stdout",
     "output_type": "stream",
     "text": [
      "m\n",
      "l\n",
      "a\n"
     ]
    }
   ],
   "source": [
    "x=\"muzammil\"\n",
    "print(x[0])\n",
    "print(x[7])\n",
    "print(x[-5])\n",
    "\n",
    "\n"
   ]
  }
 ],
 "metadata": {
  "kernelspec": {
   "display_name": "Python 3",
   "language": "python",
   "name": "python3"
  },
  "language_info": {
   "codemirror_mode": {
    "name": "ipython",
    "version": 3
   },
   "file_extension": ".py",
   "mimetype": "text/x-python",
   "name": "python",
   "nbconvert_exporter": "python",
   "pygments_lexer": "ipython3",
   "version": "3.12.4"
  }
 },
 "nbformat": 4,
 "nbformat_minor": 2
}
